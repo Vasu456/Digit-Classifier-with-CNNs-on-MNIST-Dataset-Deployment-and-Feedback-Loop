{
 "cells": [
  {
   "cell_type": "code",
   "execution_count": 1,
   "metadata": {},
   "outputs": [],
   "source": [
    "import pandas as pd\n",
    "import numpy as np\n",
    "import os\n",
    "from PIL import Image\n",
    "from tensorflow.keras import models\n",
    "from tensorflow.keras.callbacks import ModelCheckpoint"
   ]
  },
  {
   "cell_type": "code",
   "execution_count": 2,
   "metadata": {},
   "outputs": [],
   "source": [
    "def load_csv_data(csv_path):\n",
    "    # Load CSV data using pandas\n",
    "    df = pd.read_csv(csv_path)\n",
    "\n",
    "    # Assuming the last column is the label and the rest are pixel values\n",
    "    x_train = df.iloc[:, 1:].values\n",
    "    y_train = df.iloc[:, 1].values\n",
    "\n",
    "    # Normalize pixel values\n",
    "    x_train = x_train / 255.0\n",
    "\n",
    "    return x_train, y_train"
   ]
  },
  {
   "cell_type": "code",
   "execution_count": 3,
   "metadata": {},
   "outputs": [],
   "source": [
    "def retrieve_incorrect_predictions(folder_path):\n",
    "    incorrect_images = []\n",
    "    correct_labels = []\n",
    "\n",
    "    for filename in os.listdir(folder_path):\n",
    "        if filename.endswith(\".jpg\"):\n",
    "            img_path = os.path.join(folder_path, filename)\n",
    "            image = np.array(Image.open(img_path))\n",
    "            incorrect_images.append(image)\n",
    "\n",
    "            # Parse actual and predicted labels from filename\n",
    "            parts = filename.split('_')\n",
    "            actual_label = int(parts[0])\n",
    "            predicted_label = int(parts[2])  # Adjust index for predicted label\n",
    "            correct_labels.append(actual_label)\n",
    "\n",
    "    return np.array(incorrect_images), np.array(correct_labels)"
   ]
  },
  {
   "cell_type": "code",
   "execution_count": 12,
   "metadata": {},
   "outputs": [],
   "source": [
    "def preprocess_images(images):\n",
    "    # Reshape and normalize the images\n",
    "    processed_images = images.reshape(1,784).astype('float32') / 255.0\n",
    "    return processed_images\n"
   ]
  },
  {
   "cell_type": "code",
   "execution_count": 16,
   "metadata": {},
   "outputs": [],
   "source": [
    "def fine_tune_model(model, x_train_extended, y_train_extended, epochs=5):\n",
    "    # Fine-tune the model using the extended training set\n",
    "    model.fit(x_train_extended.reshape(-1,28,28,1), y_train_extended, epochs=epochs)\n",
    "\n",
    "    return model"
   ]
  },
  {
   "cell_type": "code",
   "execution_count": 17,
   "metadata": {},
   "outputs": [],
   "source": [
    "def save_fine_tuned_model(model, save_path='fine_tuned_model.h5'):\n",
    "    model.save(save_path)\n",
    "    print(f'Fine-tuned model saved at {save_path}')"
   ]
  },
  {
   "cell_type": "code",
   "execution_count": 18,
   "metadata": {},
   "outputs": [
    {
     "name": "stdout",
     "output_type": "stream",
     "text": [
      "Epoch 1/5\n",
      "1313/1313 [==============================] - 17s 13ms/step - loss: 0.0817 - accuracy: 0.9956\n",
      "Epoch 2/5\n",
      "1313/1313 [==============================] - 18s 14ms/step - loss: 2.3078e-07 - accuracy: 1.0000\n",
      "Epoch 3/5\n",
      "1313/1313 [==============================] - 19s 14ms/step - loss: 9.2815e-08 - accuracy: 1.0000\n",
      "Epoch 4/5\n",
      "1313/1313 [==============================] - 18s 14ms/step - loss: 4.0249e-08 - accuracy: 1.0000\n",
      "Epoch 5/5\n",
      "1313/1313 [==============================] - 18s 13ms/step - loss: 1.8455e-08 - accuracy: 1.0000\n",
      "Fine-tuned model saved at fine_tuned_model.h5\n"
     ]
    },
    {
     "name": "stderr",
     "output_type": "stream",
     "text": [
      "C:\\Users\\DELL\\AppData\\Roaming\\Python\\Python310\\site-packages\\keras\\src\\engine\\training.py:3000: UserWarning: You are saving your model as an HDF5 file via `model.save()`. This file format is considered legacy. We recommend using instead the native Keras format, e.g. `model.save('my_model.keras')`.\n",
      "  saving_api.save_model(\n"
     ]
    }
   ],
   "source": [
    "def main():\n",
    "    # Load the pre-trained model\n",
    "    model = models.load_model('cnn_model.h5')\n",
    "\n",
    "    # Load the original training set from CSV\n",
    "    csv_path = 'train.csv'\n",
    "    x_train, y_train = load_csv_data(csv_path)\n",
    "\n",
    "    # Retrieve incorrect predictions\n",
    "    incorrect_folder = 'incorrect_predictions'\n",
    "    incorrect_images, correct_labels = retrieve_incorrect_predictions(incorrect_folder)\n",
    "\n",
    "\n",
    "    if len(incorrect_images) > 0:\n",
    "        # Append incorrect predictions to the original training set\n",
    "        incorrect_images_processed = preprocess_images(incorrect_images)\n",
    "        x_train_extended = np.concatenate([x_train, incorrect_images_processed], axis=0)\n",
    "        y_train_extended = np.concatenate([y_train, correct_labels], axis=0)\n",
    "\n",
    "        # Fine-tune the model\n",
    "        model = fine_tune_model(model, x_train_extended, y_train_extended)\n",
    "\n",
    "        # Save the fine-tuned model\n",
    "        save_fine_tuned_model(model)\n",
    "\n",
    "if __name__ == \"__main__\":\n",
    "    main()\n"
   ]
  },
  {
   "cell_type": "code",
   "execution_count": null,
   "metadata": {},
   "outputs": [],
   "source": []
  }
 ],
 "metadata": {
  "kernelspec": {
   "display_name": "Python 3",
   "language": "python",
   "name": "python3"
  },
  "language_info": {
   "codemirror_mode": {
    "name": "ipython",
    "version": 3
   },
   "file_extension": ".py",
   "mimetype": "text/x-python",
   "name": "python",
   "nbconvert_exporter": "python",
   "pygments_lexer": "ipython3",
   "version": "3.10.4"
  }
 },
 "nbformat": 4,
 "nbformat_minor": 2
}
